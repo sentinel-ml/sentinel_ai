{
  "nbformat": 4,
  "nbformat_minor": 0,
  "metadata": {
    "colab": {
      "provenance": [],
      "gpuType": "T4",
      "authorship_tag": "ABX9TyMC61TCRa01R8wtTQ0jm699",
      "include_colab_link": true
    },
    "kernelspec": {
      "name": "python3",
      "display_name": "Python 3"
    },
    "language_info": {
      "name": "python"
    },
    "accelerator": "GPU"
  },
  "cells": [
    {
      "cell_type": "markdown",
      "metadata": {
        "id": "view-in-github",
        "colab_type": "text"
      },
      "source": [
        "<a href=\"https://colab.research.google.com/github/sentinel-ml/sentinel_ai/blob/main/model/Sentinel.ipynb\" target=\"_parent\"><img src=\"https://colab.research.google.com/assets/colab-badge.svg\" alt=\"Open In Colab\"/></a>"
      ]
    },
    {
      "cell_type": "markdown",
      "source": [
        "# Sentinel"
      ],
      "metadata": {
        "id": "_tS6Nwl-ctxj"
      }
    },
    {
      "cell_type": "markdown",
      "source": [
        "## Data collection"
      ],
      "metadata": {
        "id": "Jcw_Svp0cz4P"
      }
    },
    {
      "cell_type": "code",
      "execution_count": null,
      "metadata": {
        "id": "ztx9Ie_RHDNj"
      },
      "outputs": [],
      "source": [
        "import pandas as pd\n",
        "\n",
        "# Combine datasets\n",
        "datasets = [\n",
        "  'https://raw.githubusercontent.com/sentinel-ml/sentinel_ai/refs/heads/main/datasets/data_set_first_qtr.csv',\n",
        "  'https://raw.githubusercontent.com/sentinel-ml/sentinel_ai/refs/heads/main/datasets/data_set_second_qtr.csv',\n",
        "  'https://raw.githubusercontent.com/sentinel-ml/sentinel_ai/refs/heads/main/datasets/data_set_third_qtr.csv',\n",
        "  'https://raw.githubusercontent.com/sentinel-ml/sentinel_ai/refs/heads/main/datasets/data_set_fourth_qtr.csv'\n",
        "]\n",
        "\n",
        "df = pd.concat((pd.read_csv(dataset) for dataset in datasets), ignore_index=True)"
      ]
    },
    {
      "cell_type": "markdown",
      "source": [
        "## Data Preprocessing"
      ],
      "metadata": {
        "id": "2Lroq_-BfeiR"
      }
    },
    {
      "cell_type": "code",
      "source": [
        "from sklearn.model_selection import train_test_split\n",
        "\n",
        "# Split Data\n",
        "X, y = df.drop(columns='fraud'), df['fraud']\n",
        "X_train, X_test, y_train, y_test = train_test_split(X, y, train_size=0.8, shuffle=False)"
      ],
      "metadata": {
        "id": "rFS8sWhSflDk"
      },
      "execution_count": null,
      "outputs": []
    }
  ]
}